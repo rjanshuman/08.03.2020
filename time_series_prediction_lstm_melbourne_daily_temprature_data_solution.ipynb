{
  "nbformat": 4,
  "nbformat_minor": 0,
  "metadata": {
    "colab": {
      "name": "time_series_prediction_lstm_melbourne_daily_temprature_data_questions.ipynb",
      "provenance": [],
      "collapsed_sections": []
    },
    "kernelspec": {
      "display_name": "Python 3",
      "language": "python",
      "name": "python3"
    },
    "language_info": {
      "codemirror_mode": {
        "name": "ipython",
        "version": 3
      },
      "file_extension": ".py",
      "mimetype": "text/x-python",
      "name": "python",
      "nbconvert_exporter": "python",
      "pygments_lexer": "ipython3",
      "version": "3.7.1"
    }
  },
  "cells": [
    {
      "cell_type": "markdown",
      "metadata": {
        "id": "JoBWzBpvZR52",
        "colab_type": "text"
      },
      "source": [
        "## Time Series Prediction using LSTM"
      ]
    },
    {
      "cell_type": "markdown",
      "metadata": {
        "id": "AmCJzabhZR59",
        "colab_type": "text"
      },
      "source": [
        "### Download Data\n",
        "Link: https://datamarket.com/data/set/2324/daily-minimum-temperatures-in-melbourne-australia-1981-1990#!ds=2324&display=line\n",
        "\n",
        "#### Description\n",
        "Daily minimum temperatures in Melbourne, Australia, 1981-1990\n",
        "\n",
        "Units: Degrees Celcius\n",
        "\n",
        "#### Steps before loading\n",
        "- Rename the column name with temprature values to \"Temprature\"\n",
        "- In the last, there is one extra row in the data, remove it by opening the file and save it again.\n",
        "- There are some values in Temprature column which have a \"?\" before them, they will give error, remove \"?\" before them and save the file\n",
        "- If you don't want to do these steps, just load the data file given by Great Learning."
      ]
    },
    {
      "cell_type": "markdown",
      "metadata": {
        "id": "KkeEXXVAZR5_",
        "colab_type": "text"
      },
      "source": [
        "#### Mount google drive"
      ]
    },
    {
      "cell_type": "code",
      "metadata": {
        "colab_type": "code",
        "id": "VjoLRSg57qlt",
        "outputId": "54feae07-a12b-42e9-bf9c-749c4c5dbd22",
        "colab": {
          "base_uri": "https://localhost:8080/",
          "height": 34
        }
      },
      "source": [
        "from google.colab import drive\n",
        "drive.mount('/content/drive')"
      ],
      "execution_count": 119,
      "outputs": [
        {
          "output_type": "stream",
          "text": [
            "Drive already mounted at /content/drive; to attempt to forcibly remount, call drive.mount(\"/content/drive\", force_remount=True).\n"
          ],
          "name": "stdout"
        }
      ]
    },
    {
      "cell_type": "markdown",
      "metadata": {
        "id": "gh-RBnNnZR6M",
        "colab_type": "text"
      },
      "source": [
        "#### Change your present working directory"
      ]
    },
    {
      "cell_type": "code",
      "metadata": {
        "id": "q0keJjfFZR6P",
        "colab_type": "code",
        "colab": {}
      },
      "source": [
        "curDir = '/content/drive/My Drive/iPYTHON TF/08.03.2020/Internal_LAB/'\n",
        "import os\n",
        "os.chdir(curDir)"
      ],
      "execution_count": 0,
      "outputs": []
    },
    {
      "cell_type": "markdown",
      "metadata": {
        "id": "jmgVM5uRZR6X",
        "colab_type": "text"
      },
      "source": [
        "### Load your data file"
      ]
    },
    {
      "cell_type": "code",
      "metadata": {
        "colab_type": "code",
        "id": "AanHqGBu7Jw2",
        "colab": {}
      },
      "source": [
        "import pandas as pd\n",
        "df = pd.read_csv('daily-minimum-temperatures-in-me.csv')"
      ],
      "execution_count": 0,
      "outputs": []
    },
    {
      "cell_type": "markdown",
      "metadata": {
        "id": "zmgu6nDjZR6e",
        "colab_type": "text"
      },
      "source": [
        "#### Plot data"
      ]
    },
    {
      "cell_type": "code",
      "metadata": {
        "id": "b1qopWd2ZR6g",
        "colab_type": "code",
        "colab": {
          "base_uri": "https://localhost:8080/",
          "height": 282
        },
        "outputId": "318f3cc8-0fb5-4db0-d2a2-a31873fa7e3d"
      },
      "source": [
        "df.plot()"
      ],
      "execution_count": 122,
      "outputs": [
        {
          "output_type": "execute_result",
          "data": {
            "text/plain": [
              "<matplotlib.axes._subplots.AxesSubplot at 0x7f41d9fec198>"
            ]
          },
          "metadata": {
            "tags": []
          },
          "execution_count": 122
        },
        {
          "output_type": "display_data",
          "data": {
            "image/png": "[encoded data removed]",
            "text/plain": [
              "<Figure size 432x288 with 1 Axes>"
            ]
          },
          "metadata": {
            "tags": []
          }
        }
      ]
    },
    {
      "cell_type": "markdown",
      "metadata": {
        "id": "GgkgBD-MZR6n",
        "colab_type": "text"
      },
      "source": [
        "#### Descibe your dataframe"
      ]
    },
    {
      "cell_type": "code",
      "metadata": {
        "colab_type": "code",
        "id": "oBWNA_kG7JxC",
        "outputId": "2711555f-fe3a-489c-fe67-b547562442b8",
        "colab": {
          "base_uri": "https://localhost:8080/",
          "height": 419
        }
      },
      "source": [
        "df['Temprature'] = df[['Temperature']]\n",
        "df.drop(['Temperature', 'Date'], axis=1, inplace=True)\n",
        "df"
      ],
      "execution_count": 123,
      "outputs": [
        {
          "output_type": "execute_result",
          "data": {
            "text/html": [
              "<div>\n",
              "<style scoped>\n",
              "    .dataframe tbody tr th:only-of-type {\n",
              "        vertical-align: middle;\n",
              "    }\n",
              "\n",
              "    .dataframe tbody tr th {\n",
              "        vertical-align: top;\n",
              "    }\n",
              "\n",
              "    .dataframe thead th {\n",
              "        text-align: right;\n",
              "    }\n",
              "</style>\n",
              "<table border=\"1\" class=\"dataframe\">\n",
              "  <thead>\n",
              "    <tr style=\"text-align: right;\">\n",
              "      <th></th>\n",
              "      <th>Temprature</th>\n",
              "    </tr>\n",
              "  </thead>\n",
              "  <tbody>\n",
              "    <tr>\n",
              "      <th>0</th>\n",
              "      <td>20.7</td>\n",
              "    </tr>\n",
              "    <tr>\n",
              "      <th>1</th>\n",
              "      <td>17.9</td>\n",
              "    </tr>\n",
              "    <tr>\n",
              "      <th>2</th>\n",
              "      <td>18.8</td>\n",
              "    </tr>\n",
              "    <tr>\n",
              "      <th>3</th>\n",
              "      <td>14.6</td>\n",
              "    </tr>\n",
              "    <tr>\n",
              "      <th>4</th>\n",
              "      <td>15.8</td>\n",
              "    </tr>\n",
              "    <tr>\n",
              "      <th>...</th>\n",
              "      <td>...</td>\n",
              "    </tr>\n",
              "    <tr>\n",
              "      <th>3645</th>\n",
              "      <td>14.0</td>\n",
              "    </tr>\n",
              "    <tr>\n",
              "      <th>3646</th>\n",
              "      <td>13.6</td>\n",
              "    </tr>\n",
              "    <tr>\n",
              "      <th>3647</th>\n",
              "      <td>13.5</td>\n",
              "    </tr>\n",
              "    <tr>\n",
              "      <th>3648</th>\n",
              "      <td>15.7</td>\n",
              "    </tr>\n",
              "    <tr>\n",
              "      <th>3649</th>\n",
              "      <td>13.0</td>\n",
              "    </tr>\n",
              "  </tbody>\n",
              "</table>\n",
              "<p>3650 rows × 1 columns</p>\n",
              "</div>"
            ],
            "text/plain": [
              "      Temprature\n",
              "0           20.7\n",
              "1           17.9\n",
              "2           18.8\n",
              "3           14.6\n",
              "4           15.8\n",
              "...          ...\n",
              "3645        14.0\n",
              "3646        13.6\n",
              "3647        13.5\n",
              "3648        15.7\n",
              "3649        13.0\n",
              "\n",
              "[3650 rows x 1 columns]"
            ]
          },
          "metadata": {
            "tags": []
          },
          "execution_count": 123
        }
      ]
    },
    {
      "cell_type": "markdown",
      "metadata": {
        "id": "aELyukfIZR6w",
        "colab_type": "text"
      },
      "source": [
        "#### Check for null values"
      ]
    },
    {
      "cell_type": "code",
      "metadata": {
        "colab_type": "code",
        "id": "97MVIy_N7JxH",
        "outputId": "b98fed39-a619-4fa5-ebb7-c4e3940628a1",
        "colab": {
          "base_uri": "https://localhost:8080/",
          "height": 51
        }
      },
      "source": [
        "df.isnull().sum()"
      ],
      "execution_count": 124,
      "outputs": [
        {
          "output_type": "execute_result",
          "data": {
            "text/plain": [
              "Temprature    0\n",
              "dtype: int64"
            ]
          },
          "metadata": {
            "tags": []
          },
          "execution_count": 124
        }
      ]
    },
    {
      "cell_type": "markdown",
      "metadata": {
        "id": "9_lZWTKFZR69",
        "colab_type": "text"
      },
      "source": [
        "#### Drop null values"
      ]
    },
    {
      "cell_type": "code",
      "metadata": {
        "colab_type": "code",
        "id": "fgh7mdOI7JxS",
        "colab": {}
      },
      "source": [
        "#No null values"
      ],
      "execution_count": 0,
      "outputs": []
    },
    {
      "cell_type": "markdown",
      "metadata": {
        "id": "S4vhSKl0ZR7G",
        "colab_type": "text"
      },
      "source": [
        "#### Get the representation of the distribution of data in the form of histogram"
      ]
    },
    {
      "cell_type": "code",
      "metadata": {
        "colab_type": "code",
        "id": "659sLAx27Jxc",
        "outputId": "5d33ae4c-fd20-451e-84a2-108a734938cf",
        "colab": {
          "base_uri": "https://localhost:8080/",
          "height": 315
        }
      },
      "source": [
        "df.hist()"
      ],
      "execution_count": 126,
      "outputs": [
        {
          "output_type": "execute_result",
          "data": {
            "text/plain": [
              "array([[<matplotlib.axes._subplots.AxesSubplot object at 0x7f41d8f19320>]],\n",
              "      dtype=object)"
            ]
          },
          "metadata": {
            "tags": []
          },
          "execution_count": 126
        },
        {
          "output_type": "display_data",
          "data": {
            "image/png": "[encoded data removed]",
            "text/plain": [
              "<Figure size 432x288 with 1 Axes>"
            ]
          },
          "metadata": {
            "tags": []
          }
        }
      ]
    },
    {
      "cell_type": "markdown",
      "metadata": {
        "id": "vP06Z3exZR7P",
        "colab_type": "text"
      },
      "source": [
        "#### Check the maximum and minimum values"
      ]
    },
    {
      "cell_type": "code",
      "metadata": {
        "colab_type": "code",
        "id": "WmkjCx8c7Jxn",
        "outputId": "48e59271-b4ad-48c6-d638-3e75ee93992d",
        "colab": {
          "base_uri": "https://localhost:8080/",
          "height": 85
        }
      },
      "source": [
        "print(\"Minimum value of\" , df.min())\n",
        "print(\"Maximum value of\" , df.max())\n"
      ],
      "execution_count": 127,
      "outputs": [
        {
          "output_type": "stream",
          "text": [
            "Minimum value of Temprature    0.0\n",
            "dtype: float64\n",
            "Maximum value of Temprature    26.3\n",
            "dtype: float64\n"
          ],
          "name": "stdout"
        }
      ]
    },
    {
      "cell_type": "markdown",
      "metadata": {
        "id": "rqwVEnfUZR7W",
        "colab_type": "text"
      },
      "source": [
        "### Normalize the data"
      ]
    },
    {
      "cell_type": "code",
      "metadata": {
        "colab_type": "code",
        "id": "fb4SNzD27Jxw",
        "colab": {}
      },
      "source": [
        "from sklearn.preprocessing import MinMaxScaler\n",
        "scaler = MinMaxScaler(feature_range=(0, 1))\n",
        "scaled = scaler.fit_transform(df)"
      ],
      "execution_count": 0,
      "outputs": []
    },
    {
      "cell_type": "markdown",
      "metadata": {
        "id": "KCMNZC21ZR7c",
        "colab_type": "text"
      },
      "source": [
        "#### Check the maximum and minimum values of scaled data"
      ]
    },
    {
      "cell_type": "code",
      "metadata": {
        "colab_type": "code",
        "id": "clv2rSfL7Jx4",
        "outputId": "cbdccdb3-8eca-449a-facf-c7788f1eeb84",
        "colab": {
          "base_uri": "https://localhost:8080/",
          "height": 51
        }
      },
      "source": [
        "print(\"Minimum value of Scaled Temperature is \" , scaled.min())\n",
        "print(\"Maximum value of Scaled Temperature is \" , scaled.max())"
      ],
      "execution_count": 129,
      "outputs": [
        {
          "output_type": "stream",
          "text": [
            "Minimum value of Scaled Temperature is  0.0\n",
            "Maximum value of Scaled Temperature is  1.0\n"
          ],
          "name": "stdout"
        }
      ]
    },
    {
      "cell_type": "markdown",
      "metadata": {
        "id": "BskS9h-2ZR7l",
        "colab_type": "text"
      },
      "source": [
        "#### Look into some of the scaled values"
      ]
    },
    {
      "cell_type": "code",
      "metadata": {
        "colab_type": "code",
        "id": "Xq9CBinO7Jx9",
        "outputId": "69549731-c218-469a-c916-5f92c6b0be03",
        "colab": {
          "base_uri": "https://localhost:8080/",
          "height": 187
        }
      },
      "source": [
        "scaled[0:10,:]"
      ],
      "execution_count": 130,
      "outputs": [
        {
          "output_type": "execute_result",
          "data": {
            "text/plain": [
              "array([[0.78707224],\n",
              "       [0.68060837],\n",
              "       [0.7148289 ],\n",
              "       [0.55513308],\n",
              "       [0.60076046],\n",
              "       [0.60076046],\n",
              "       [0.60076046],\n",
              "       [0.66159696],\n",
              "       [0.82889734],\n",
              "       [0.76045627]])"
            ]
          },
          "metadata": {
            "tags": []
          },
          "execution_count": 130
        }
      ]
    },
    {
      "cell_type": "markdown",
      "metadata": {
        "id": "oXX1SlosZR7v",
        "colab_type": "text"
      },
      "source": [
        "### Split data into Training and Testing"
      ]
    },
    {
      "cell_type": "code",
      "metadata": {
        "colab_type": "code",
        "id": "-0Uh7lCO7JyD",
        "colab": {}
      },
      "source": [
        "#70% examples will used for training (in the begining)\n",
        "train_size = int(len(scaled) * 0.70)\n",
        "\n",
        "#30% will be used for Test\n",
        "test_size = len(scaled) - train_size\n",
        "\n",
        "#Split the data\n",
        "train, test = scaled[0:train_size, :], scaled[train_size: len(scaled), :]"
      ],
      "execution_count": 0,
      "outputs": []
    },
    {
      "cell_type": "markdown",
      "metadata": {
        "id": "b65YtUlsZR73",
        "colab_type": "text"
      },
      "source": [
        "#### Print train and test size"
      ]
    },
    {
      "cell_type": "code",
      "metadata": {
        "id": "WhRQjN7VZR75",
        "colab_type": "code",
        "colab": {
          "base_uri": "https://localhost:8080/",
          "height": 51
        },
        "outputId": "9753dbcb-dc77-4a08-9e0b-5c01e94cf940"
      },
      "source": [
        "print('train size is : {}\\ntest size is : {}'.format(len(train), len(test)))"
      ],
      "execution_count": 132,
      "outputs": [
        {
          "output_type": "stream",
          "text": [
            "train size is : 2555\n",
            "test size is : 1095\n"
          ],
          "name": "stdout"
        }
      ]
    },
    {
      "cell_type": "markdown",
      "metadata": {
        "id": "M95Ilr0fZR7-",
        "colab_type": "text"
      },
      "source": [
        "## Create the sequential data\n",
        "Map the temprature at a particular time t to the temprature at time t+n, where n is any number you define.\n",
        "\n",
        "For example: to map tempratures of consecutive days, use t+1, i.e. loop_back = 1"
      ]
    },
    {
      "cell_type": "markdown",
      "metadata": {
        "id": "JtiXkjsGZR7_",
        "colab_type": "text"
      },
      "source": [
        "#### Define your function to create dataset"
      ]
    },
    {
      "cell_type": "code",
      "metadata": {
        "colab_type": "code",
        "id": "jWIvInPB7JyK",
        "colab": {}
      },
      "source": [
        "import numpy as np\n",
        "#window - how long the sequence will be\n",
        "def create_dataset(dataset, window):#=5):\n",
        "    \n",
        "    dataX, dataY = [], []\n",
        "    \n",
        "    for i in range(len(dataset)-window):\n",
        "        \n",
        "        a = dataset[i:(i+window),0]        \n",
        "        dataX.append(a)\n",
        "        dataY.append(dataset[i + window, 0])\n",
        "    \n",
        "    return np.array(dataX), np.array(dataY)"
      ],
      "execution_count": 0,
      "outputs": []
    },
    {
      "cell_type": "markdown",
      "metadata": {
        "id": "QTvpWPwrZR8I",
        "colab_type": "text"
      },
      "source": [
        "#### Use function to get training and test set"
      ]
    },
    {
      "cell_type": "code",
      "metadata": {
        "colab_type": "code",
        "id": "uarOJcPk7JyQ",
        "scrolled": true,
        "colab": {}
      },
      "source": [
        "#Create Input and Output\n",
        "window_size = 20\n",
        "X_train, y_train = create_dataset(train, window_size)\n",
        "X_test, y_test = create_dataset(test, window_size)"
      ],
      "execution_count": 0,
      "outputs": []
    },
    {
      "cell_type": "markdown",
      "metadata": {
        "id": "-LHhTMeIZR8U",
        "colab_type": "text"
      },
      "source": [
        "#### Transform the prepared train and test input data into the expected structure using numpy.reshape()"
      ]
    },
    {
      "cell_type": "code",
      "metadata": {
        "colab_type": "code",
        "id": "UJZ4VB4N7JyV",
        "outputId": "5dff1e45-3801-4386-99d9-1529f19d4920",
        "colab": {
          "base_uri": "https://localhost:8080/",
          "height": 85
        }
      },
      "source": [
        "#Make it 3 Dimensional Data - needed for LSTM\n",
        "print(X_train.shape)\n",
        "print(X_test.shape)\n",
        "\n",
        "X_train = np.reshape(X_train, (X_train.shape[0], 20, 1))\n",
        "X_test = np.reshape(X_test, (X_test.shape[0], 20, 1))\n",
        "print(X_train.shape)\n",
        "print(X_test.shape)"
      ],
      "execution_count": 135,
      "outputs": [
        {
          "output_type": "stream",
          "text": [
            "(2535, 20)\n",
            "(1075, 20)\n",
            "(2535, 20, 1)\n",
            "(1075, 20, 1)\n"
          ],
          "name": "stdout"
        }
      ]
    },
    {
      "cell_type": "markdown",
      "metadata": {
        "id": "-3SsxaQSZR8c",
        "colab_type": "text"
      },
      "source": [
        "## Define Model"
      ]
    },
    {
      "cell_type": "markdown",
      "metadata": {
        "id": "qon_ia9UZR8d",
        "colab_type": "text"
      },
      "source": [
        "### Define sequntial model, add LSTM layer and compile the model"
      ]
    },
    {
      "cell_type": "code",
      "metadata": {
        "colab_type": "code",
        "id": "yRW-Txvt7Jya",
        "colab": {}
      },
      "source": [
        "import tensorflow as tf\n",
        "\n",
        "tf.keras.backend.clear_session()\n",
        "model = tf.keras.Sequential()\n",
        "model.add(tf.keras.layers.LSTM(32, input_shape=(window_size, 1)))\n",
        "model.add(tf.keras.layers.Dense(10))\n",
        "model.add(tf.keras.layers.Dense(1))\n",
        "model.compile(optimizer='adam', loss='mse')"
      ],
      "execution_count": 0,
      "outputs": []
    },
    {
      "cell_type": "markdown",
      "metadata": {
        "id": "dJNMwgfeZR8j",
        "colab_type": "text"
      },
      "source": [
        "### Summarize your model"
      ]
    },
    {
      "cell_type": "code",
      "metadata": {
        "id": "CcZ66AzjZR8k",
        "colab_type": "code",
        "colab": {
          "base_uri": "https://localhost:8080/",
          "height": 255
        },
        "outputId": "c0c1bdef-2ab9-403e-8caf-7b6afb5aa692"
      },
      "source": [
        "model.summary()"
      ],
      "execution_count": 137,
      "outputs": [
        {
          "output_type": "stream",
          "text": [
            "Model: \"sequential\"\n",
            "_________________________________________________________________\n",
            "Layer (type)                 Output Shape              Param #   \n",
            "=================================================================\n",
            "lstm (LSTM)                  (None, 32)                4352      \n",
            "_________________________________________________________________\n",
            "dense (Dense)                (None, 10)                330       \n",
            "_________________________________________________________________\n",
            "dense_1 (Dense)              (None, 1)                 11        \n",
            "=================================================================\n",
            "Total params: 4,693\n",
            "Trainable params: 4,693\n",
            "Non-trainable params: 0\n",
            "_________________________________________________________________\n"
          ],
          "name": "stdout"
        }
      ]
    },
    {
      "cell_type": "markdown",
      "metadata": {
        "id": "6Ywa6vLNZR8q",
        "colab_type": "text"
      },
      "source": [
        "### Train the model"
      ]
    },
    {
      "cell_type": "code",
      "metadata": {
        "id": "DEhRSvN6ZR8s",
        "colab_type": "code",
        "colab": {
          "base_uri": "https://localhost:8080/",
          "height": 1000
        },
        "outputId": "b3029bde-c3c4-4cf5-ac98-b120bdd842a6"
      },
      "source": [
        "model.fit(X_train, y_train, epochs=100, validation_data=(X_test, y_test), batch_size=32)"
      ],
      "execution_count": 138,
      "outputs": [
        {
          "output_type": "stream",
          "text": [
            "Train on 2535 samples, validate on 1075 samples\n",
            "Epoch 1/100\n",
            "2535/2535 [==============================] - 2s 827us/sample - loss: 0.0233 - val_loss: 0.0105\n",
            "Epoch 2/100\n",
            "2535/2535 [==============================] - 1s 558us/sample - loss: 0.0111 - val_loss: 0.0096\n",
            "Epoch 3/100\n",
            "2535/2535 [==============================] - 1s 561us/sample - loss: 0.0108 - val_loss: 0.0096\n",
            "Epoch 4/100\n",
            "2535/2535 [==============================] - 1s 554us/sample - loss: 0.0107 - val_loss: 0.0092\n",
            "Epoch 5/100\n",
            "2535/2535 [==============================] - 1s 576us/sample - loss: 0.0105 - val_loss: 0.0093\n",
            "Epoch 6/100\n",
            "2535/2535 [==============================] - 1s 587us/sample - loss: 0.0104 - val_loss: 0.0089\n",
            "Epoch 7/100\n",
            "2535/2535 [==============================] - 1s 521us/sample - loss: 0.0103 - val_loss: 0.0088\n",
            "Epoch 8/100\n",
            "2535/2535 [==============================] - 1s 578us/sample - loss: 0.0102 - val_loss: 0.0093\n",
            "Epoch 9/100\n",
            "2535/2535 [==============================] - 1s 584us/sample - loss: 0.0101 - val_loss: 0.0086\n",
            "Epoch 10/100\n",
            "2535/2535 [==============================] - 1s 561us/sample - loss: 0.0101 - val_loss: 0.0089\n",
            "Epoch 11/100\n",
            "2535/2535 [==============================] - 1s 534us/sample - loss: 0.0100 - val_loss: 0.0085\n",
            "Epoch 12/100\n",
            "2535/2535 [==============================] - 1s 588us/sample - loss: 0.0098 - val_loss: 0.0089\n",
            "Epoch 13/100\n",
            "2535/2535 [==============================] - 1s 538us/sample - loss: 0.0097 - val_loss: 0.0082\n",
            "Epoch 14/100\n",
            "2535/2535 [==============================] - 1s 534us/sample - loss: 0.0097 - val_loss: 0.0082\n",
            "Epoch 15/100\n",
            "2535/2535 [==============================] - 1s 526us/sample - loss: 0.0095 - val_loss: 0.0080\n",
            "Epoch 16/100\n",
            "2535/2535 [==============================] - 1s 524us/sample - loss: 0.0093 - val_loss: 0.0079\n",
            "Epoch 17/100\n",
            "2535/2535 [==============================] - 1s 530us/sample - loss: 0.0092 - val_loss: 0.0078\n",
            "Epoch 18/100\n",
            "2535/2535 [==============================] - 1s 541us/sample - loss: 0.0091 - val_loss: 0.0079\n",
            "Epoch 19/100\n",
            "2535/2535 [==============================] - 1s 529us/sample - loss: 0.0090 - val_loss: 0.0077\n",
            "Epoch 20/100\n",
            "2535/2535 [==============================] - 1s 540us/sample - loss: 0.0091 - val_loss: 0.0076\n",
            "Epoch 21/100\n",
            "2535/2535 [==============================] - 1s 531us/sample - loss: 0.0089 - val_loss: 0.0082\n",
            "Epoch 22/100\n",
            "2535/2535 [==============================] - 1s 524us/sample - loss: 0.0090 - val_loss: 0.0077\n",
            "Epoch 23/100\n",
            "2535/2535 [==============================] - 1s 535us/sample - loss: 0.0090 - val_loss: 0.0076\n",
            "Epoch 24/100\n",
            "2535/2535 [==============================] - 1s 530us/sample - loss: 0.0089 - val_loss: 0.0076\n",
            "Epoch 25/100\n",
            "2535/2535 [==============================] - 1s 537us/sample - loss: 0.0089 - val_loss: 0.0079\n",
            "Epoch 26/100\n",
            "2535/2535 [==============================] - 1s 539us/sample - loss: 0.0089 - val_loss: 0.0076\n",
            "Epoch 27/100\n",
            "2535/2535 [==============================] - 1s 545us/sample - loss: 0.0089 - val_loss: 0.0076\n",
            "Epoch 28/100\n",
            "2535/2535 [==============================] - 1s 534us/sample - loss: 0.0089 - val_loss: 0.0077\n",
            "Epoch 29/100\n",
            "2535/2535 [==============================] - 1s 533us/sample - loss: 0.0090 - val_loss: 0.0081\n",
            "Epoch 30/100\n",
            "2535/2535 [==============================] - 1s 519us/sample - loss: 0.0091 - val_loss: 0.0079\n",
            "Epoch 31/100\n",
            "2535/2535 [==============================] - 1s 522us/sample - loss: 0.0089 - val_loss: 0.0076\n",
            "Epoch 32/100\n",
            "2535/2535 [==============================] - 1s 520us/sample - loss: 0.0089 - val_loss: 0.0076\n",
            "Epoch 33/100\n",
            "2535/2535 [==============================] - 1s 519us/sample - loss: 0.0089 - val_loss: 0.0076\n",
            "Epoch 34/100\n",
            "2535/2535 [==============================] - 1s 518us/sample - loss: 0.0089 - val_loss: 0.0077\n",
            "Epoch 35/100\n",
            "2535/2535 [==============================] - 1s 523us/sample - loss: 0.0090 - val_loss: 0.0083\n",
            "Epoch 36/100\n",
            "2535/2535 [==============================] - 1s 542us/sample - loss: 0.0088 - val_loss: 0.0076\n",
            "Epoch 37/100\n",
            "2535/2535 [==============================] - 1s 539us/sample - loss: 0.0088 - val_loss: 0.0076\n",
            "Epoch 38/100\n",
            "2535/2535 [==============================] - 1s 517us/sample - loss: 0.0089 - val_loss: 0.0078\n",
            "Epoch 39/100\n",
            "2535/2535 [==============================] - 1s 519us/sample - loss: 0.0089 - val_loss: 0.0076\n",
            "Epoch 40/100\n",
            "2535/2535 [==============================] - 1s 524us/sample - loss: 0.0088 - val_loss: 0.0078\n",
            "Epoch 41/100\n",
            "2535/2535 [==============================] - 1s 521us/sample - loss: 0.0088 - val_loss: 0.0075\n",
            "Epoch 42/100\n",
            "2535/2535 [==============================] - 2s 596us/sample - loss: 0.0089 - val_loss: 0.0084\n",
            "Epoch 43/100\n",
            "2535/2535 [==============================] - 1s 515us/sample - loss: 0.0089 - val_loss: 0.0078\n",
            "Epoch 44/100\n",
            "2535/2535 [==============================] - 1s 512us/sample - loss: 0.0088 - val_loss: 0.0077\n",
            "Epoch 45/100\n",
            "2535/2535 [==============================] - 1s 525us/sample - loss: 0.0088 - val_loss: 0.0081\n",
            "Epoch 46/100\n",
            "2535/2535 [==============================] - 1s 551us/sample - loss: 0.0089 - val_loss: 0.0079\n",
            "Epoch 47/100\n",
            "2535/2535 [==============================] - 1s 553us/sample - loss: 0.0088 - val_loss: 0.0076\n",
            "Epoch 48/100\n",
            "2535/2535 [==============================] - 1s 553us/sample - loss: 0.0088 - val_loss: 0.0076\n",
            "Epoch 49/100\n",
            "2535/2535 [==============================] - 1s 524us/sample - loss: 0.0088 - val_loss: 0.0076\n",
            "Epoch 50/100\n",
            "2535/2535 [==============================] - 1s 536us/sample - loss: 0.0089 - val_loss: 0.0078\n",
            "Epoch 51/100\n",
            "2535/2535 [==============================] - 1s 517us/sample - loss: 0.0089 - val_loss: 0.0075\n",
            "Epoch 52/100\n",
            "2535/2535 [==============================] - 1s 541us/sample - loss: 0.0087 - val_loss: 0.0076\n",
            "Epoch 53/100\n",
            "2535/2535 [==============================] - 1s 545us/sample - loss: 0.0088 - val_loss: 0.0078\n",
            "Epoch 54/100\n",
            "2535/2535 [==============================] - 2s 640us/sample - loss: 0.0089 - val_loss: 0.0080\n",
            "Epoch 55/100\n",
            "2535/2535 [==============================] - 1s 550us/sample - loss: 0.0091 - val_loss: 0.0082\n",
            "Epoch 56/100\n",
            "2535/2535 [==============================] - 1s 527us/sample - loss: 0.0089 - val_loss: 0.0076\n",
            "Epoch 57/100\n",
            "2535/2535 [==============================] - 1s 520us/sample - loss: 0.0088 - val_loss: 0.0076\n",
            "Epoch 58/100\n",
            "2535/2535 [==============================] - 1s 529us/sample - loss: 0.0088 - val_loss: 0.0075\n",
            "Epoch 59/100\n",
            "2535/2535 [==============================] - 1s 526us/sample - loss: 0.0088 - val_loss: 0.0076\n",
            "Epoch 60/100\n",
            "2535/2535 [==============================] - 1s 564us/sample - loss: 0.0089 - val_loss: 0.0076\n",
            "Epoch 61/100\n",
            "2535/2535 [==============================] - 1s 574us/sample - loss: 0.0087 - val_loss: 0.0076\n",
            "Epoch 62/100\n",
            "2535/2535 [==============================] - 1s 537us/sample - loss: 0.0089 - val_loss: 0.0081\n",
            "Epoch 63/100\n",
            "2535/2535 [==============================] - 1s 516us/sample - loss: 0.0087 - val_loss: 0.0075\n",
            "Epoch 64/100\n",
            "2535/2535 [==============================] - 1s 532us/sample - loss: 0.0088 - val_loss: 0.0076\n",
            "Epoch 65/100\n",
            "2535/2535 [==============================] - 1s 521us/sample - loss: 0.0088 - val_loss: 0.0076\n",
            "Epoch 66/100\n",
            "2535/2535 [==============================] - 1s 515us/sample - loss: 0.0088 - val_loss: 0.0081\n",
            "Epoch 67/100\n",
            "2535/2535 [==============================] - 1s 520us/sample - loss: 0.0088 - val_loss: 0.0077\n",
            "Epoch 68/100\n",
            "2535/2535 [==============================] - 1s 534us/sample - loss: 0.0087 - val_loss: 0.0079\n",
            "Epoch 69/100\n",
            "2535/2535 [==============================] - 1s 512us/sample - loss: 0.0088 - val_loss: 0.0077\n",
            "Epoch 70/100\n",
            "2535/2535 [==============================] - 1s 519us/sample - loss: 0.0088 - val_loss: 0.0075\n",
            "Epoch 71/100\n",
            "2535/2535 [==============================] - 2s 604us/sample - loss: 0.0088 - val_loss: 0.0077\n",
            "Epoch 72/100\n",
            "2535/2535 [==============================] - 1s 531us/sample - loss: 0.0088 - val_loss: 0.0079\n",
            "Epoch 73/100\n",
            "2535/2535 [==============================] - 1s 521us/sample - loss: 0.0088 - val_loss: 0.0076\n",
            "Epoch 74/100\n",
            "2535/2535 [==============================] - 1s 530us/sample - loss: 0.0087 - val_loss: 0.0076\n",
            "Epoch 75/100\n",
            "2535/2535 [==============================] - 1s 535us/sample - loss: 0.0087 - val_loss: 0.0076\n",
            "Epoch 76/100\n",
            "2535/2535 [==============================] - 1s 520us/sample - loss: 0.0087 - val_loss: 0.0075\n",
            "Epoch 77/100\n",
            "2535/2535 [==============================] - 1s 557us/sample - loss: 0.0088 - val_loss: 0.0077\n",
            "Epoch 78/100\n",
            "2535/2535 [==============================] - 1s 545us/sample - loss: 0.0089 - val_loss: 0.0078\n",
            "Epoch 79/100\n",
            "2535/2535 [==============================] - 1s 546us/sample - loss: 0.0089 - val_loss: 0.0076\n",
            "Epoch 80/100\n",
            "2535/2535 [==============================] - 1s 521us/sample - loss: 0.0088 - val_loss: 0.0075\n",
            "Epoch 81/100\n",
            "2535/2535 [==============================] - 1s 522us/sample - loss: 0.0087 - val_loss: 0.0079\n",
            "Epoch 82/100\n",
            "2535/2535 [==============================] - 1s 530us/sample - loss: 0.0088 - val_loss: 0.0077\n",
            "Epoch 83/100\n",
            "2535/2535 [==============================] - 1s 541us/sample - loss: 0.0088 - val_loss: 0.0075\n",
            "Epoch 84/100\n",
            "2535/2535 [==============================] - 1s 580us/sample - loss: 0.0087 - val_loss: 0.0077\n",
            "Epoch 85/100\n",
            "2535/2535 [==============================] - 1s 537us/sample - loss: 0.0087 - val_loss: 0.0078\n",
            "Epoch 86/100\n",
            "2535/2535 [==============================] - 1s 543us/sample - loss: 0.0087 - val_loss: 0.0076\n",
            "Epoch 87/100\n",
            "2535/2535 [==============================] - 1s 547us/sample - loss: 0.0088 - val_loss: 0.0075\n",
            "Epoch 88/100\n",
            "2535/2535 [==============================] - 1s 536us/sample - loss: 0.0088 - val_loss: 0.0076\n",
            "Epoch 89/100\n",
            "2535/2535 [==============================] - 1s 550us/sample - loss: 0.0087 - val_loss: 0.0075\n",
            "Epoch 90/100\n",
            "2535/2535 [==============================] - 1s 537us/sample - loss: 0.0087 - val_loss: 0.0075\n",
            "Epoch 91/100\n",
            "2535/2535 [==============================] - 1s 546us/sample - loss: 0.0089 - val_loss: 0.0075\n",
            "Epoch 92/100\n",
            "2535/2535 [==============================] - 1s 546us/sample - loss: 0.0087 - val_loss: 0.0075\n",
            "Epoch 93/100\n",
            "2535/2535 [==============================] - 1s 526us/sample - loss: 0.0087 - val_loss: 0.0076\n",
            "Epoch 94/100\n",
            "2535/2535 [==============================] - 1s 527us/sample - loss: 0.0087 - val_loss: 0.0076\n",
            "Epoch 95/100\n",
            "2535/2535 [==============================] - 1s 517us/sample - loss: 0.0088 - val_loss: 0.0076\n",
            "Epoch 96/100\n",
            "2535/2535 [==============================] - 1s 528us/sample - loss: 0.0088 - val_loss: 0.0076\n",
            "Epoch 97/100\n",
            "2535/2535 [==============================] - 1s 532us/sample - loss: 0.0087 - val_loss: 0.0077\n",
            "Epoch 98/100\n",
            "2535/2535 [==============================] - 1s 539us/sample - loss: 0.0087 - val_loss: 0.0077\n",
            "Epoch 99/100\n",
            "2535/2535 [==============================] - 1s 517us/sample - loss: 0.0087 - val_loss: 0.0076\n",
            "Epoch 100/100\n",
            "2535/2535 [==============================] - 1s 541us/sample - loss: 0.0087 - val_loss: 0.0075\n"
          ],
          "name": "stdout"
        },
        {
          "output_type": "execute_result",
          "data": {
            "text/plain": [
              "<tensorflow.python.keras.callbacks.History at 0x7f41d8bc9710>"
            ]
          },
          "metadata": {
            "tags": []
          },
          "execution_count": 138
        }
      ]
    },
    {
      "cell_type": "markdown",
      "metadata": {
        "id": "yIOzA_TUZR8y",
        "colab_type": "text"
      },
      "source": [
        "## Make Predictions and Evaluate your model"
      ]
    },
    {
      "cell_type": "code",
      "metadata": {
        "colab_type": "code",
        "id": "85Ip5wrq7Jyi",
        "outputId": "1859af42-4106-4441-c30f-ec7cd1db60f2",
        "colab": {
          "base_uri": "https://localhost:8080/",
          "height": 85
        }
      },
      "source": [
        "import matplotlib.pyplot as plt\n",
        "#Un-normalize the predited data\n",
        "trainPredict = model.predict(X_train)\n",
        "testPredict = model.predict(X_test)\n",
        "trainPredict = scaler.inverse_transform(trainPredict)\n",
        "testPredict = scaler.inverse_transform(testPredict)\n",
        "trainPredictPlot = np.empty_like(scaled)\n",
        "trainPredictPlot[:, :] = np.nan\n",
        "trainPredictPlot[window_size:len(trainPredict)+window_size, :] = trainPredict\n",
        "# shift test predictions for plotting\n",
        "testPredictPlot = np.empty_like(scaled)\n",
        "testPredictPlot[:, :] = np.nan\n",
        "testPredictPlot[len(trainPredict)+(window_size*2):len(scaled), :] = testPredict\n",
        "\n",
        "print(model.evaluate(X_train,y_train))\n",
        "print(model.evaluate(X_test,y_test))"
      ],
      "execution_count": 139,
      "outputs": [
        {
          "output_type": "stream",
          "text": [
            "2535/2535 [==============================] - 0s 95us/sample - loss: 0.0086\n",
            "0.008614616075262456\n",
            "1075/1075 [==============================] - 0s 87us/sample - loss: 0.0075\n",
            "0.0075123604742247\n"
          ],
          "name": "stdout"
        }
      ]
    },
    {
      "cell_type": "markdown",
      "metadata": {
        "id": "p8zWctS5ZR85",
        "colab_type": "text"
      },
      "source": [
        "## Plot the results"
      ]
    },
    {
      "cell_type": "code",
      "metadata": {
        "colab_type": "code",
        "id": "FHbIWp-D7Jyn",
        "outputId": "988c2e40-ea98-40ba-a9fb-a368fdd1e14b",
        "colab": {
          "base_uri": "https://localhost:8080/",
          "height": 320
        }
      },
      "source": [
        "# plot baseline and predictions\n",
        "plt.figure(figsize=(10,5))\n",
        "plt.plot(scaler.inverse_transform(scaled))\n",
        "plt.plot(trainPredictPlot)\n",
        "plt.plot(testPredictPlot)\n",
        "plt.show()"
      ],
      "execution_count": 140,
      "outputs": [
        {
          "output_type": "display_data",
          "data": {
            "image/png": "[encoded data removed]",
            "text/plain": [
              "<Figure size 720x360 with 1 Axes>"
            ]
          },
          "metadata": {
            "tags": []
          }
        }
      ]
    },
    {
      "cell_type": "code",
      "metadata": {
        "id": "eKblu6FviiU2",
        "colab_type": "code",
        "colab": {}
      },
      "source": [
        ""
      ],
      "execution_count": 0,
      "outputs": []
    }
  ]
}